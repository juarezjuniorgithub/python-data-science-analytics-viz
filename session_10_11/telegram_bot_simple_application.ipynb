{
  "cells": [
    {
      "attachments": {},
      "cell_type": "markdown",
      "metadata": {
        "id": "Llho4Quob6Kw"
      },
      "source": [
        "# Install the packages (dependencies)"
      ]
    },
    {
      "cell_type": "code",
      "execution_count": 1,
      "metadata": {
        "id": "gDI91lX0xtfb"
      },
      "outputs": [
        {
          "name": "stdout",
          "output_type": "stream",
          "text": [
            "Defaulting to user installation because normal site-packages is not writeableNote: you may need to restart the kernel to use updated packages.\n",
            "\n",
            "Requirement already satisfied: pyTelegramBotAPI in c:\\anaconda3\\lib\\site-packages (4.11.0)\n",
            "Requirement already satisfied: requests in c:\\anaconda3\\lib\\site-packages (from pyTelegramBotAPI) (2.28.1)\n",
            "Requirement already satisfied: certifi>=2017.4.17 in c:\\anaconda3\\lib\\site-packages (from requests->pyTelegramBotAPI) (2022.9.14)\n",
            "Requirement already satisfied: idna<4,>=2.5 in c:\\anaconda3\\lib\\site-packages (from requests->pyTelegramBotAPI) (3.3)\n",
            "Requirement already satisfied: urllib3<1.27,>=1.21.1 in c:\\anaconda3\\lib\\site-packages (from requests->pyTelegramBotAPI) (1.26.11)\n",
            "Requirement already satisfied: charset-normalizer<3,>=2 in c:\\anaconda3\\lib\\site-packages (from requests->pyTelegramBotAPI) (2.0.4)\n",
            "Defaulting to user installation because normal site-packages is not writeable\n",
            "Requirement already satisfied: pyTelegramBotAPI in c:\\anaconda3\\lib\\site-packages (4.11.0)\n",
            "Requirement already satisfied: requests in c:\\anaconda3\\lib\\site-packages (from pyTelegramBotAPI) (2.28.1)\n",
            "Requirement already satisfied: urllib3<1.27,>=1.21.1 in c:\\anaconda3\\lib\\site-packages (from requests->pyTelegramBotAPI) (1.26.11)\n",
            "Requirement already satisfied: idna<4,>=2.5 in c:\\anaconda3\\lib\\site-packages (from requests->pyTelegramBotAPI) (3.3)\n",
            "Requirement already satisfied: certifi>=2017.4.17 in c:\\anaconda3\\lib\\site-packages (from requests->pyTelegramBotAPI) (2022.9.14)\n",
            "Requirement already satisfied: charset-normalizer<3,>=2 in c:\\anaconda3\\lib\\site-packages (from requests->pyTelegramBotAPI) (2.0.4)\n",
            "Note: you may need to restart the kernel to use updated packages.\n"
          ]
        }
      ],
      "source": [
        "%pip install pyTelegramBotAPI\n",
        "%pip install pyTelegramBotAPI --upgrade"
      ]
    },
    {
      "attachments": {},
      "cell_type": "markdown",
      "metadata": {
        "id": "1J_oxw85cJFA"
      },
      "source": [
        "# Steps to create your chatbot on [web.telegram.org](https://web.telegram.org/k/)"
      ]
    },
    {
      "attachments": {},
      "cell_type": "markdown",
      "metadata": {
        "id": "mSq3aXNFdxIH"
      },
      "source": [
        "### Get a Telegram TOKEN\n",
        "\n",
        "### Steps:"
      ]
    },
    {
      "attachments": {},
      "cell_type": "markdown",
      "metadata": {
        "id": "Lsfj1-0XIk2j"
      },
      "source": [
        "1. Open Telegram (web or smartphone).\n",
        "<img src=\"./Screenshot_0.jpg\" width=\"800\" />"
      ]
    },
    {
      "attachments": {},
      "cell_type": "markdown",
      "metadata": {
        "id": "7urtCiYfIp90"
      },
      "source": [
        "2. Search for `BotFather` on Telegram.\n",
        "<img src=\"./Screenshot_1.jpg\" width=\"800\" />"
      ]
    },
    {
      "attachments": {},
      "cell_type": "markdown",
      "metadata": {
        "id": "LNfOmspjIp1z"
      },
      "source": [
        "3. Select Start on `BotFather`.\n",
        "<img src=\"./Screenshot_2.jpg\" width=\"800\" />"
      ]
    },
    {
      "attachments": {},
      "cell_type": "markdown",
      "metadata": {
        "id": "fKwlfj1tIpL9"
      },
      "source": [
        "4. Click `\\newbot`.\n",
        "<img src=\"./Screenshot_3.jpg\" width=\"800\" />"
      ]
    },
    {
      "attachments": {},
      "cell_type": "markdown",
      "metadata": {
        "id": "sjHaTKrjIo0z"
      },
      "source": [
        "5. Define a name for your bot.\n",
        "<img src=\"./Screenshot_4.jpg\" width=\"800\" />"
      ]
    },
    {
      "attachments": {},
      "cell_type": "markdown",
      "metadata": {
        "id": "VAWbIQxwI27I"
      },
      "source": [
        "6. Define a unique username for your bot. It must end with 'bot'.\n",
        "<img src=\"./Screenshot_5.jpg\" width=\"800\" />"
      ]
    },
    {
      "attachments": {},
      "cell_type": "markdown",
      "metadata": {
        "id": "zohJtq1fI2xq"
      },
      "source": [
        "7. Save the generated TOKEN.\n",
        "<img src=\"./Screenshot_6.jpg\" width=\"800\" />"
      ]
    },
    {
      "attachments": {},
      "cell_type": "markdown",
      "metadata": {
        "id": "rBrBuJqKniHu"
      },
      "source": [
        "## Import the required module, and insert the TOKEN (API_KEY)"
      ]
    },
    {
      "cell_type": "code",
      "execution_count": 2,
      "metadata": {
        "id": "zQmSw0W5x29T"
      },
      "outputs": [],
      "source": [
        "from telebot import telebot\n",
        "\n",
        "API_KEY = '6236861503:AAEzVrpLztNhOW-Q9Y6l2tuXXnaTrTKWOy4'\n",
        "bot = telebot.TeleBot(API_KEY)"
      ]
    },
    {
      "attachments": {},
      "cell_type": "markdown",
      "metadata": {
        "id": "MMCX0QyEnp21"
      },
      "source": [
        "## Define the Python dictionaries (data set)"
      ]
    },
    {
      "cell_type": "code",
      "execution_count": 3,
      "metadata": {
        "id": "W5TCoDja1WSm"
      },
      "outputs": [],
      "source": [
        "cities_description = {\n",
        "    '/manaus': 'Manaus, on the banks of the Rio Negro in northwest Brazil, is the capital of the vast state of Amazonas. It is an important starting point close to the Amazon Rainforest. To the east of the city, the dark Rio Negro converges with the muddy Rio Solimões, resulting in an incredible visual phenomenon called the \"Meeting of the Waters\". The combination of tributaries forms the Amazon River.',\n",
        "    '/sao_paulo': 'São Paulo, a financial center in Brazil, is among the most populous cities in the world, with diverse cultural institutions and a rich architectural tradition. There are symbolic buildings such as the neo-Gothic cathedral, the Martinelli Building, a skyscraper inaugurated in 1929, and the Copan Building, with its curved lines designed by the modernist architect Oscar Niemeyer. The colonial style church of Pátio do Colégio marks the place where the Jesuit priests founded the city in 1554.',\n",
        "    '/rio_de_janeiro': 'Rio de Janeiro is a large Brazilian seaside city, famous for the beaches of Copacabana and Ipanema, the 38-meter-high statue of Christ the Redeemer atop Corcovado Mountain, and Sugarloaf Mountain, a granite peak with cable cars to its summit. The city is also known for its large favelas. The exciting Carnival, with floats, extravagant costumes and samba dancers, is considered the largest in the world.',\n",
        "    '/fortaleza': 'Fortaleza is the capital of the state of Ceará, in Northeast Brazil. The city is known for its beaches, with red cliffs, palm trees, dunes and lagoons. The local traditions can be seen in dance performances at Theatro José de Alencar, an art nouveau building inaugurated in 1910. Another architectural highlight is the Metropolitan Cathedral, in neo-Gothic style.'\n",
        "}\n",
        "\n",
        "touristic_sites_description = {\n",
        "    '/cristo_redentor': 'Cristo Redentor is an art deco statue that depicts Jesus Christ, located on top of Corcovado Mountain, 709 meters above sea level, overlooking a considerable part of the Brazilian city of Rio de Janeiro. Made of reinforced concrete and soapstone, it is thirty meters high (one of the largest statues in the world), not counting the eight meters of the pedestal. Its arms stretch 28 meters wide and the structure weighs 1145 tons.',\n",
        "    '/teatro_amazonas': 'Teatro Amazonas is one of the most important theaters in Brazil and the main postcard of the city of Manaus. Located in Largo de São Sebastião, in the Historic Center, it was inaugurated in 1896 to meet the desire of the Amazonian elite at the time, who idealized the city to be on par with the great cultural centers. It is widely regarded as one of the most beautiful theaters in the world.',\n",
        "    '/parque_ibirapuera': 'Inaugurated in 1954 with an area of 158 hectares (390 acres), between Pedro Álvares Cabral, República do Líbano and IV Centenário avenues, Ibirapuera Park is a listed park and historical heritage of São Paulo. Its gardens were designed by the landscaper Otávio Augusto Teixeira Mendes, after the concept and preliminary project by the landscaper Roberto Burle Marx.',\n",
        "    '/beira_mar': 'Built just over 50 years ago, Avenida Beira-Mar is one of the main postcards of Fortaleza and is the most valued place for fun and work in the capital due to its waterfront full of luxurious buildings and hotels and the boardwalk busy with tourists. and practitioners of physical activities.'\n",
        "}"
      ]
    },
    {
      "attachments": {},
      "cell_type": "markdown",
      "metadata": {
        "id": "115yH6cBn8s5"
      },
      "source": [
        "## Map the names to your chat bot commands"
      ]
    },
    {
      "cell_type": "code",
      "execution_count": 4,
      "metadata": {
        "id": "WCrPMmz9f7gI"
      },
      "outputs": [],
      "source": [
        "touristic_sites_commands = ['cristo_redentor', 'teatro_amazonas', 'parque_ibirapuera', 'beira_mar']\n",
        "city_commands = ['manaus', 'sao_paulo', 'rio_de_janeiro', 'fortaleza']\n",
        "\n",
        "tourist_sites_dictionary = {\n",
        "    '/cristo_redentor': 'Cristo Redentor',\n",
        "    '/teatro_amazonas': 'Teatro Amazonas',\n",
        "    '/parque_ibirapuera': 'Parque Ibirapuera',\n",
        "    '/beira_mar': 'Beira Mar'\n",
        "}\n",
        "\n",
        "cities_dictionary = {\n",
        "    '/manaus': 'Manaus',\n",
        "    '/sao_paulo': 'São Paulo',\n",
        "    '/rio_de_janeiro': 'Rio de Janeiro',\n",
        "    '/fortaleza': 'Fortaleza'\n",
        "}\n",
        "\n"
      ]
    },
    {
      "attachments": {},
      "cell_type": "markdown",
      "metadata": {
        "id": "xVAKOdhcorBY"
      },
      "source": [
        "## Configure the message handlers that will respond to the informed commands"
      ]
    },
    {
      "attachments": {},
      "cell_type": "markdown",
      "metadata": {
        "id": "2ku60o-ifr5e"
      },
      "source": [
        "### This one handles the /lista_cidades commands by returning the available cities that you can get information about"
      ]
    },
    {
      "cell_type": "code",
      "execution_count": 5,
      "metadata": {
        "id": "hSkigvQBIKSB"
      },
      "outputs": [],
      "source": [
        "@bot.message_handler(commands=['list_cities'])\n",
        "def mostrar_cidades(message):\n",
        "    reply_message = ''\n",
        "    for item in cities_dictionary.items():\n",
        "        reply_message += f'{item[0]} - {item[1]}\\n'\n",
        "\n",
        "    bot.reply_to(message, reply_message)"
      ]
    },
    {
      "attachments": {},
      "cell_type": "markdown",
      "metadata": {
        "id": "3MSUt_0AgB7-"
      },
      "source": [
        "### This one handles the /list_tourist_attractions command by returning the available attractions that you can get information about"
      ]
    },
    {
      "cell_type": "code",
      "execution_count": 6,
      "metadata": {
        "id": "vJYK5URhIPAv"
      },
      "outputs": [],
      "source": [
        "@bot.message_handler(commands=['list_tourist_attractions'])\n",
        "def mostrar_pontos_turisticos(message):\n",
        "    reply_message = ''\n",
        "    for item in tourist_sites_dictionary.items():\n",
        "        reply_message += f'{item[0]} - {item[1]}\\n'\n",
        "\n",
        "    bot.reply_to(message, reply_message)"
      ]
    },
    {
      "attachments": {},
      "cell_type": "markdown",
      "metadata": {
        "id": "7-HDoM8EgGLp"
      },
      "source": [
        "### This one handles the city names by retrieving the information previously stored in our dictionaries "
      ]
    },
    {
      "cell_type": "code",
      "execution_count": 7,
      "metadata": {
        "id": "ekdpBLXwIRke"
      },
      "outputs": [],
      "source": [
        "@bot.message_handler(commands=city_commands)\n",
        "def mostrar_cities_description(message):\n",
        "    bot.reply_to(message, cities_description[message.text])"
      ]
    },
    {
      "attachments": {},
      "cell_type": "markdown",
      "metadata": {
        "id": "bfj7egQxgQg1"
      },
      "source": [
        "### This one handles the commands related to tourist attractions, retrieving the information stored in our dictionaries previously"
      ]
    },
    {
      "cell_type": "code",
      "execution_count": 8,
      "metadata": {
        "id": "3lIJQJBo1Wfk"
      },
      "outputs": [],
      "source": [
        "@bot.message_handler(commands=touristic_sites_commands)\n",
        "def mostrar_touristic_sites_description(message):\n",
        "    bot.reply_to(message, touristic_sites_description[message.text])"
      ]
    },
    {
      "attachments": {},
      "cell_type": "markdown",
      "metadata": {
        "id": "YqCh0302fjs-"
      },
      "source": [
        "### This one presents a welcome message, it has to be the last function given that its message handler is a more generic one"
      ]
    },
    {
      "cell_type": "code",
      "execution_count": 9,
      "metadata": {
        "id": "DrE9bhZyHnww"
      },
      "outputs": [],
      "source": [
        "@bot.message_handler(func=lambda message: True)\n",
        "def default(message):\n",
        "    bot.reply_to(\n",
        "        message, \n",
        "        'Hi, welcome to our Tourist Attractions Catalog\\n\\n/list_cities - Returns all cities available\\n/list_tourist_attractions - Returns all tourist attractions'\n",
        "      )"
      ]
    },
    {
      "attachments": {},
      "cell_type": "markdown",
      "metadata": {
        "id": "isNdcrKCo2n3"
      },
      "source": [
        "## Start the bot pooling process so that our bot will keep listening to commands that may be directed to it \n",
        "\n",
        "### It will become active and keep listening to respond to queries"
      ]
    },
    {
      "cell_type": "code",
      "execution_count": 11,
      "metadata": {
        "id": "srzw2EBHyjlt"
      },
      "outputs": [],
      "source": [
        "bot.polling()"
      ]
    }
  ],
  "metadata": {
    "colab": {
      "include_colab_link": true,
      "provenance": []
    },
    "kernelspec": {
      "display_name": "Python 3",
      "name": "python3"
    },
    "language_info": {
      "codemirror_mode": {
        "name": "ipython",
        "version": 3
      },
      "file_extension": ".py",
      "mimetype": "text/x-python",
      "name": "python",
      "nbconvert_exporter": "python",
      "pygments_lexer": "ipython3",
      "version": "3.9.13"
    }
  },
  "nbformat": 4,
  "nbformat_minor": 0
}
